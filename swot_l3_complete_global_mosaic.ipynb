{
 "cells": [
  {
   "cell_type": "markdown",
   "metadata": {},
   "source": "# SWOT L3 Global Mosaic - Cycle 016\n\n567 swaths, 2 km resolution"
  },
  {
   "cell_type": "code",
   "execution_count": null,
   "metadata": {},
   "outputs": [],
   "source": "import xarray as xr\nimport numpy as np\nimport matplotlib.pyplot as plt\nimport cartopy.crs as ccrs\nimport cartopy.feature as cfeature\nfrom pathlib import Path\nfrom matplotlib.colors import Normalize"
  },
  {
   "cell_type": "markdown",
   "metadata": {},
   "source": "## Load files"
  },
  {
   "cell_type": "code",
   "execution_count": null,
   "metadata": {},
   "outputs": [],
   "source": "data_dir = Path('swot_l3_cycle016')\nfiles = sorted(data_dir.glob('*.nc'))\nlen(files)"
  },
  {
   "cell_type": "code",
   "execution_count": null,
   "metadata": {},
   "outputs": [],
   "source": "ds = xr.open_dataset(files[0])\nprint(ds)\nds.close()"
  },
  {
   "cell_type": "markdown",
   "metadata": {},
   "source": "## Plot global"
  },
  {
   "cell_type": "code",
   "execution_count": null,
   "metadata": {},
   "outputs": [],
   "source": "fig = plt.figure(figsize=(28, 14))\nax = plt.subplot(1, 1, 1, projection=ccrs.Robinson())\nnorm = Normalize(vmin=-0.4, vmax=0.4)\ncmap = plt.cm.RdBu_r\n\nfor i, file in enumerate(files, 1):\n    if i % 100 == 0:\n        print(f\"{i}/{len(files)}\")\n    \n    ds = xr.open_dataset(file)\n    im = ax.pcolormesh(ds.longitude.values, ds.latitude.values, ds.ssha_filtered.values,\n                      transform=ccrs.PlateCarree(), cmap=cmap, norm=norm, \n                      shading='auto', rasterized=True)\n    ds.close()\n\nax.add_feature(cfeature.LAND, facecolor='lightgray', edgecolor='none')\nax.add_feature(cfeature.COASTLINE, linewidth=0.5)\nax.gridlines(linewidth=0.5, alpha=0.5)\n\ncbar = plt.colorbar(im, ax=ax, orientation='horizontal', pad=0.05, shrink=0.7)\ncbar.set_label('SSHA (m)', fontsize=12)\n\nax.set_title(f'SWOT L3 Cycle 016 - {len(files)} Swaths', fontsize=14)\nplt.tight_layout()\nplt.savefig('swot_l3_global.png', dpi=150, bbox_inches='tight')\nplt.show()"
  },
  {
   "cell_type": "code",
   "execution_count": null,
   "metadata": {},
   "outputs": [],
   "source": ""
  },
  {
   "cell_type": "markdown",
   "metadata": {},
   "source": "## Regional plots"
  },
  {
   "cell_type": "code",
   "execution_count": null,
   "metadata": {},
   "outputs": [],
   "source": "regions = [\n    {'name': 'NE Pacific', 'extent': [-180, -120, 40, 65]},\n    {'name': 'West Coast', 'extent': [-135, -115, 30, 50]},\n    {'name': 'Gulf Stream', 'extent': [-80, -60, 30, 45]},\n    {'name': 'Caribbean', 'extent': [-90, -60, 10, 25]},\n    {'name': 'Kuroshio', 'extent': [130, 150, 30, 45]}\n]\n\nfig = plt.figure(figsize=(20, 12))\nnorm = Normalize(vmin=-0.4, vmax=0.4)\n\nfor i, region in enumerate(regions):\n    ax = fig.add_subplot(2, 3, i+1, projection=ccrs.PlateCarree())\n    \n    for file in files:\n        ds = xr.open_dataset(file)\n        lon, lat = ds.longitude.values, ds.latitude.values\n        lon_min, lon_max, lat_min, lat_max = region['extent']\n        \n        if (lon.min() <= lon_max and lon.max() >= lon_min and\n            lat.min() <= lat_max and lat.max() >= lat_min):\n            im = ax.pcolormesh(lon, lat, ds.ssha_filtered.values,\n                             transform=ccrs.PlateCarree(), cmap=plt.cm.RdBu_r,\n                             norm=norm, shading='auto', rasterized=True)\n        ds.close()\n    \n    ax.add_feature(cfeature.LAND, facecolor='lightgray')\n    ax.add_feature(cfeature.COASTLINE, linewidth=0.5)\n    ax.set_extent(region['extent'], crs=ccrs.PlateCarree())\n    ax.set_title(region['name'], fontsize=12)\n\nplt.tight_layout()\nplt.savefig('swot_l3_regional.png', dpi=150)\nplt.show()"
  },
  {
   "cell_type": "markdown",
   "metadata": {},
   "source": "## Extract regional subset"
  },
  {
   "cell_type": "code",
   "source": "# Example: Extract NE Pacific region\nlon_min, lon_max = -180, -120\nlat_min, lat_max = 40, 65\n\n# Collect all swaths in region\nregional_data = []\nfor file in files:\n    ds = xr.open_dataset(file)\n    lon = ds.longitude.values\n    lat = ds.latitude.values\n    \n    if (lon.min() <= lon_max and lon.max() >= lon_min and\n        lat.min() <= lat_max and lat.max() >= lat_min):\n        regional_data.append(ds)\n    else:\n        ds.close()\n\n# Save first swath as example (or combine as needed)\nif regional_data:\n    regional_data[0].to_netcdf('swot_l3_ne_pacific_sample.nc')\n    print(f\"Saved sample to swot_l3_ne_pacific_sample.nc\")\n    for ds in regional_data:\n        ds.close()",
   "metadata": {},
   "execution_count": null,
   "outputs": []
  }
 ],
 "metadata": {
  "kernelspec": {
   "display_name": "Python 3",
   "language": "python",
   "name": "python3"
  },
  "language_info": {
   "codemirror_mode": {
    "name": "ipython",
    "version": 3
   },
   "file_extension": ".py",
   "mimetype": "text/x-python",
   "name": "python",
   "nbconvert_exporter": "python",
   "pygments_lexer": "ipython3",
   "version": "3.9.0"
  }
 },
 "nbformat": 4,
 "nbformat_minor": 4
}