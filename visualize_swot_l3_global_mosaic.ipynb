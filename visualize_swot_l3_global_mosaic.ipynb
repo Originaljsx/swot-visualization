{
 "cells": [
  {
   "cell_type": "markdown",
   "id": "cell-0",
   "metadata": {},
   "source": [
    "# SWOT L3 Global Mosaic - Cycle 016\n",
    "\n",
    "567 swaths merged into global visualization, 2 km resolution"
   ]
  },
  {
   "cell_type": "code",
   "execution_count": null,
   "id": "cell-1",
   "metadata": {},
   "outputs": [],
   "source": [
    "import xarray as xr\n",
    "import numpy as np\n",
    "import matplotlib.pyplot as plt\n",
    "import cartopy.crs as ccrs\n",
    "import cartopy.feature as cfeature\n",
    "from pathlib import Path\n",
    "from matplotlib.colors import Normalize"
   ]
  },
  {
   "cell_type": "markdown",
   "id": "cell-2",
   "metadata": {},
   "source": [
    "## Load swath files"
   ]
  },
  {
   "cell_type": "code",
   "execution_count": null,
   "id": "cell-3",
   "metadata": {},
   "outputs": [],
   "source": [
    "data_dir = Path('swot_l3_cycle016')\n",
    "files = sorted(data_dir.glob('*.nc'))\n",
    "print(f\"Found {len(files)} swath files\")"
   ]
  },
  {
   "cell_type": "code",
   "execution_count": null,
   "id": "cell-4",
   "metadata": {},
   "outputs": [],
   "source": [
    "# Examine first file structure\n",
    "ds = xr.open_dataset(files[0])\n",
    "print(ds)\n",
    "print(\"\\nVariables:\")\n",
    "for var in ds.data_vars:\n",
    "    print(f\"  {var}: {ds[var].attrs.get('long_name', '')}\")\n",
    "ds.close()"
   ]
  },
  {
   "cell_type": "markdown",
   "id": "cell-5",
   "metadata": {},
   "source": [
    "## Global plot"
   ]
  },
  {
   "cell_type": "code",
   "execution_count": null,
   "id": "cell-6",
   "metadata": {},
   "outputs": [],
   "source": [
    "fig = plt.figure(figsize=(20, 10))\n",
    "ax = plt.subplot(1, 1, 1, projection=ccrs.Robinson())\n",
    "norm = Normalize(vmin=-0.4, vmax=0.4)\n",
    "cmap = plt.cm.RdBu_r\n",
    "\n",
    "print(f\"Processing {len(files)} swaths...\")\n",
    "for i, file in enumerate(files, 1):\n",
    "    if i % 50 == 0:\n",
    "        print(f\"  {i}/{len(files)}\")\n",
    "    \n",
    "    ds = xr.open_dataset(file)\n",
    "    im = ax.pcolormesh(ds.longitude.values, ds.latitude.values, ds.ssha_filtered.values,\n",
    "                      transform=ccrs.PlateCarree(), cmap=cmap, norm=norm, \n",
    "                      shading='auto', rasterized=True)\n",
    "    ds.close()\n",
    "\n",
    "ax.add_feature(cfeature.LAND, facecolor='lightgray')\n",
    "ax.add_feature(cfeature.COASTLINE, linewidth=0.5)\n",
    "\n",
    "cbar = plt.colorbar(im, ax=ax, orientation='horizontal', pad=0.05, shrink=0.7)\n",
    "cbar.set_label('SSHA (m)', fontsize=12)\n",
    "\n",
    "ax.set_title(f'SWOT L3 Global Mosaic - Cycle 016 ({len(files)} Swaths)', fontsize=14)\n",
    "plt.tight_layout()\n",
    "plt.savefig('swot_l3_global_mosaic.png', dpi=150, bbox_inches='tight')\n",
    "print(\"Saved: swot_l3_global_mosaic.png\")\n",
    "plt.show()"
   ]
  },
  {
   "cell_type": "markdown",
   "id": "cell-7",
   "metadata": {},
   "source": [
    "## Multi-panel view"
   ]
  },
  {
   "cell_type": "code",
   "execution_count": null,
   "id": "cell-8",
   "metadata": {},
   "outputs": [],
   "source": "fig = plt.figure(figsize=(20, 14))\nnorm = Normalize(vmin=-0.4, vmax=0.4)\ncmap = plt.cm.RdBu_r\n\n# 1. Global SSHA\nprint(\"Creating panel 1: Global SSHA...\")\nax1 = plt.subplot(2, 3, 1, projection=ccrs.Robinson())\nfor i, file in enumerate(files, 1):\n    if i % 100 == 0:\n        print(f\"  {i}/{len(files)}\")\n    ds = xr.open_dataset(file)\n    im1 = ax1.pcolormesh(ds.longitude.values, ds.latitude.values, ds.ssha_filtered.values,\n                        transform=ccrs.PlateCarree(), cmap=cmap, norm=norm,\n                        shading='auto', rasterized=True)\n    ds.close()\nax1.add_feature(cfeature.LAND, facecolor='lightgray')\nax1.add_feature(cfeature.COASTLINE, linewidth=0.5)\nax1.set_title('Global SSHA', fontsize=12)\nplt.colorbar(im1, ax=ax1, shrink=0.7, label='SSHA (m)')\n\n# 2. Pacific region\nprint(\"Creating panel 2: Pacific...\")\nax2 = plt.subplot(2, 3, 2, projection=ccrs.PlateCarree(central_longitude=180))\npacific_extent = [120, 240, -60, 60]\nfor file in files:\n    ds = xr.open_dataset(file)\n    lon, lat = ds.longitude.values, ds.latitude.values\n    if (lon.min() <= pacific_extent[1] and lon.max() >= pacific_extent[0] and\n        lat.min() <= pacific_extent[3] and lat.max() >= pacific_extent[2]):\n        im2 = ax2.pcolormesh(lon, lat, ds.ssha_filtered.values,\n                            transform=ccrs.PlateCarree(), cmap=cmap, norm=norm,\n                            shading='auto', rasterized=True)\n    ds.close()\nax2.add_feature(cfeature.LAND, facecolor='lightgray')\nax2.add_feature(cfeature.COASTLINE, linewidth=0.5)\nax2.set_extent(pacific_extent, crs=ccrs.PlateCarree())\nax2.set_title('Pacific', fontsize=12)\nplt.colorbar(im2, ax=ax2, shrink=0.7, label='SSHA (m)')\n\n# 3. Atlantic region\nprint(\"Creating panel 3: Atlantic...\")\nax3 = plt.subplot(2, 3, 3, projection=ccrs.PlateCarree())\natlantic_extent = [-80, 20, -60, 60]\nfor file in files:\n    ds = xr.open_dataset(file)\n    lon, lat = ds.longitude.values, ds.latitude.values\n    if (lon.min() <= atlantic_extent[1] and lon.max() >= atlantic_extent[0] and\n        lat.min() <= atlantic_extent[3] and lat.max() >= atlantic_extent[2]):\n        im3 = ax3.pcolormesh(lon, lat, ds.ssha_filtered.values,\n                            transform=ccrs.PlateCarree(), cmap=cmap, norm=norm,\n                            shading='auto', rasterized=True)\n    ds.close()\nax3.add_feature(cfeature.LAND, facecolor='lightgray')\nax3.add_feature(cfeature.COASTLINE, linewidth=0.5)\nax3.set_extent(atlantic_extent, crs=ccrs.PlateCarree())\nax3.set_title('Atlantic', fontsize=12)\nplt.colorbar(im3, ax=ax3, shrink=0.7, label='SSHA (m)')\n\n# 4. Gulf Stream detail\nprint(\"Creating panel 4: Gulf Stream...\")\nax4 = plt.subplot(2, 3, 4, projection=ccrs.PlateCarree())\ndetail_extent = [-80, -60, 30, 45]\nfor file in files:\n    ds = xr.open_dataset(file)\n    lon, lat = ds.longitude.values, ds.latitude.values\n    if (lon.min() <= detail_extent[1] and lon.max() >= detail_extent[0] and\n        lat.min() <= detail_extent[3] and lat.max() >= detail_extent[2]):\n        im4 = ax4.pcolormesh(lon, lat, ds.ssha_filtered.values,\n                            transform=ccrs.PlateCarree(), cmap=cmap, norm=norm,\n                            shading='auto', rasterized=True)\n    ds.close()\nax4.add_feature(cfeature.LAND, facecolor='lightgray')\nax4.add_feature(cfeature.COASTLINE, linewidth=0.5)\nax4.set_extent(detail_extent, crs=ccrs.PlateCarree())\nax4.set_title('Gulf Stream', fontsize=12)\nplt.colorbar(im4, ax=ax4, shrink=0.7, label='SSHA (m)')\n\n# 5. Kuroshio Current\nprint(\"Creating panel 5: Kuroshio...\")\nax5 = plt.subplot(2, 3, 5, projection=ccrs.PlateCarree())\nkuroshio_extent = [130, 150, 30, 45]\nfor file in files:\n    ds = xr.open_dataset(file)\n    lon, lat = ds.longitude.values, ds.latitude.values\n    if (lon.min() <= kuroshio_extent[1] and lon.max() >= kuroshio_extent[0] and\n        lat.min() <= kuroshio_extent[3] and lat.max() >= kuroshio_extent[2]):\n        im5 = ax5.pcolormesh(lon, lat, ds.ssha_filtered.values,\n                            transform=ccrs.PlateCarree(), cmap=cmap, norm=norm,\n                            shading='auto', rasterized=True)\n    ds.close()\nax5.add_feature(cfeature.LAND, facecolor='lightgray')\nax5.add_feature(cfeature.COASTLINE, linewidth=0.5)\nax5.set_extent(kuroshio_extent, crs=ccrs.PlateCarree())\nax5.set_title('Kuroshio Current', fontsize=12)\nplt.colorbar(im5, ax=ax5, shrink=0.7, label='SSHA (m)')\n\n# 6. SSHA histogram\nprint(\"Creating panel 6: Histogram...\")\nax6 = plt.subplot(2, 3, 6)\nall_ssha = []\nfor i, file in enumerate(files, 1):\n    if i % 100 == 0:\n        print(f\"  {i}/{len(files)}\")\n    ds = xr.open_dataset(file)\n    ssha_flat = ds.ssha_filtered.values.flatten()\n    ssha_flat = ssha_flat[~np.isnan(ssha_flat)]\n    all_ssha.extend(ssha_flat)\n    ds.close()\n\nax6.hist(all_ssha, bins=100, color='steelblue', alpha=0.7)\nax6.set_xlabel('SSHA (m)')\nax6.set_ylabel('Count')\nax6.set_title('SSHA Distribution', fontsize=12)\n\nplt.tight_layout()\nplt.savefig('swot_l3_multi_panel.png', dpi=150, bbox_inches='tight')\nprint(\"Saved: swot_l3_multi_panel.png\")\nplt.show()"
  },
  {
   "cell_type": "markdown",
   "id": "cell-9",
   "metadata": {},
   "source": [
    "## Regional detailed plots"
   ]
  },
  {
   "cell_type": "code",
   "execution_count": null,
   "id": "cell-10",
   "metadata": {},
   "outputs": [],
   "source": [
    "regions = [\n",
    "    {'name': 'NE Pacific', 'extent': [-180, -120, 40, 65]},\n",
    "    {'name': 'West Coast', 'extent': [-135, -115, 30, 50]},\n",
    "    {'name': 'Gulf of Mexico', 'extent': [-100, -80, 18, 32]},\n",
    "    {'name': 'Gulf Stream', 'extent': [-80, -60, 30, 45]}\n",
    "]\n",
    "\n",
    "fig, axes = plt.subplots(2, 2, figsize=(16, 12), \n",
    "                         subplot_kw={'projection': ccrs.PlateCarree()})\n",
    "axes = axes.flatten()\n",
    "norm = Normalize(vmin=-0.4, vmax=0.4)\n",
    "\n",
    "for ax, region in zip(axes, regions):\n",
    "    print(f\"Plotting {region['name']}...\")\n",
    "    lon_min, lon_max, lat_min, lat_max = region['extent']\n",
    "    \n",
    "    for file in files:\n",
    "        ds = xr.open_dataset(file)\n",
    "        lon, lat = ds.longitude.values, ds.latitude.values\n",
    "        \n",
    "        if (lon.min() <= lon_max and lon.max() >= lon_min and\n",
    "            lat.min() <= lat_max and lat.max() >= lat_min):\n",
    "            im = ax.pcolormesh(lon, lat, ds.ssha_filtered.values,\n",
    "                             transform=ccrs.PlateCarree(), cmap=plt.cm.RdBu_r,\n",
    "                             norm=norm, shading='auto', rasterized=True)\n",
    "        ds.close()\n",
    "    \n",
    "    ax.add_feature(cfeature.LAND, facecolor='lightgray')\n",
    "    ax.add_feature(cfeature.COASTLINE, linewidth=0.5)\n",
    "    ax.set_extent(region['extent'], crs=ccrs.PlateCarree())\n",
    "    ax.set_title(region['name'], fontsize=12)\n",
    "    \n",
    "    cbar = plt.colorbar(im, ax=ax, shrink=0.7, orientation='horizontal', pad=0.05)\n",
    "    cbar.set_label('SSHA (m)', fontsize=10)\n",
    "\n",
    "plt.tight_layout()\n",
    "plt.savefig('swot_l3_regional_detail.png', dpi=150, bbox_inches='tight')\n",
    "print(\"Saved: swot_l3_regional_detail.png\")\n",
    "plt.show()"
   ]
  },
  {
   "cell_type": "markdown",
   "id": "cell-11",
   "metadata": {},
   "source": [
    "## Statistics"
   ]
  },
  {
   "cell_type": "code",
   "execution_count": null,
   "id": "cell-12",
   "metadata": {},
   "outputs": [],
   "source": [
    "# Calculate global statistics\n",
    "print(\"Calculating global statistics...\")\n",
    "all_ssha = []\n",
    "total_points = 0\n",
    "valid_points = 0\n",
    "\n",
    "for i, file in enumerate(files, 1):\n",
    "    if i % 100 == 0:\n",
    "        print(f\"  Processing {i}/{len(files)}...\")\n",
    "    \n",
    "    ds = xr.open_dataset(file)\n",
    "    ssha_flat = ds.ssha_filtered.values.flatten()\n",
    "    total_points += len(ssha_flat)\n",
    "    ssha_valid = ssha_flat[~np.isnan(ssha_flat)]\n",
    "    valid_points += len(ssha_valid)\n",
    "    all_ssha.extend(ssha_valid)\n",
    "    ds.close()\n",
    "\n",
    "all_ssha = np.array(all_ssha)\n",
    "\n",
    "print(\"\\n=== SWOT L3 Global Statistics ===\")\n",
    "print(f\"Total swaths: {len(files)}\")\n",
    "print(f\"Total data points: {total_points:,}\")\n",
    "print(f\"Valid data points: {valid_points:,}\")\n",
    "print(f\"Coverage: {100*valid_points/total_points:.1f}%\")\n",
    "print(f\"\\nSSHA Statistics:\")\n",
    "print(f\"  Mean: {np.mean(all_ssha):.4f} m\")\n",
    "print(f\"  Std Dev: {np.std(all_ssha):.4f} m\")\n",
    "print(f\"  Min: {np.min(all_ssha):.4f} m\")\n",
    "print(f\"  Max: {np.max(all_ssha):.4f} m\")\n",
    "print(f\"  Median: {np.median(all_ssha):.4f} m\")\n",
    "print(f\"  25th percentile: {np.percentile(all_ssha, 25):.4f} m\")\n",
    "print(f\"  75th percentile: {np.percentile(all_ssha, 75):.4f} m\")"
   ]
  },
  {
   "cell_type": "markdown",
   "id": "cell-13",
   "metadata": {},
   "source": [
    "## Extract regional subset"
   ]
  },
  {
   "cell_type": "code",
   "execution_count": null,
   "id": "cell-14",
   "metadata": {},
   "outputs": [],
   "source": [
    "# Example: Extract NE Pacific region swaths\n",
    "lon_min, lon_max = -180, -120\n",
    "lat_min, lat_max = 40, 65\n",
    "\n",
    "print(\"Extracting NE Pacific swaths...\")\n",
    "regional_files = []\n",
    "for file in files:\n",
    "    ds = xr.open_dataset(file)\n",
    "    lon = ds.longitude.values\n",
    "    lat = ds.latitude.values\n",
    "    \n",
    "    if (lon.min() <= lon_max and lon.max() >= lon_min and\n",
    "        lat.min() <= lat_max and lat.max() >= lat_min):\n",
    "        regional_files.append(file)\n",
    "    ds.close()\n",
    "\n",
    "print(f\"Found {len(regional_files)} swaths in NE Pacific region\")\n",
    "\n",
    "# Save first swath as example\n",
    "if regional_files:\n",
    "    ds_sample = xr.open_dataset(regional_files[0])\n",
    "    ds_sample.to_netcdf('swot_l3_ne_pacific_sample.nc')\n",
    "    print(f\"Saved sample swath to swot_l3_ne_pacific_sample.nc\")\n",
    "    print(f\"Swath dimensions: {ds_sample.ssha_filtered.shape}\")\n",
    "    ds_sample.close()"
   ]
  }
 ],
 "metadata": {
  "kernelspec": {
   "display_name": "Python 3",
   "language": "python",
   "name": "python3"
  },
  "language_info": {
   "codemirror_mode": {
    "name": "ipython",
    "version": 3
   },
   "file_extension": ".py",
   "mimetype": "text/x-python",
   "name": "python",
   "nbconvert_exporter": "python",
   "pygments_lexer": "ipython3",
   "version": "3.9.0"
  }
 },
 "nbformat": 4,
 "nbformat_minor": 5
}