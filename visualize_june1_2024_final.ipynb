{
 "cells": [
  {
   "cell_type": "markdown",
   "metadata": {},
   "source": "# SWOT L4 - June 1, 2024\n\n0.125° resolution, MIOST interpolation"
  },
  {
   "cell_type": "code",
   "execution_count": null,
   "metadata": {
    "execution": {
     "iopub.execute_input": "2025-10-24T13:15:06.775807Z",
     "iopub.status.busy": "2025-10-24T13:15:06.775807Z",
     "iopub.status.idle": "2025-10-24T13:15:07.852808Z",
     "shell.execute_reply": "2025-10-24T13:15:07.852808Z"
    }
   },
   "outputs": [],
   "source": "import xarray as xr\nimport numpy as np\nimport matplotlib.pyplot as plt\nimport cartopy.crs as ccrs\nimport cartopy.feature as cfeature\nfrom pathlib import Path"
  },
  {
   "cell_type": "markdown",
   "metadata": {},
   "source": "## Load data"
  },
  {
   "cell_type": "code",
   "execution_count": null,
   "metadata": {
    "execution": {
     "iopub.execute_input": "2025-10-24T13:15:07.884808Z",
     "iopub.status.busy": "2025-10-24T13:15:07.883807Z",
     "iopub.status.idle": "2025-10-24T13:15:08.404807Z",
     "shell.execute_reply": "2025-10-24T13:15:08.404807Z"
    }
   },
   "outputs": [],
   "source": "ds = xr.open_dataset('swot_l4_data/dt_global_allsat_phy_l4_20240601_20250331.nc')\nds"
  },
  {
   "cell_type": "code",
   "execution_count": null,
   "metadata": {
    "execution": {
     "iopub.execute_input": "2025-10-24T13:15:08.406807Z",
     "iopub.status.busy": "2025-10-24T13:15:08.406807Z",
     "iopub.status.idle": "2025-10-24T13:15:08.419807Z",
     "shell.execute_reply": "2025-10-24T13:15:08.419807Z"
    }
   },
   "outputs": [],
   "source": "for var in ds.data_vars:\n    print(f\"{var}: {ds[var].attrs.get('long_name', '')}\")"
  },
  {
   "cell_type": "code",
   "execution_count": null,
   "metadata": {
    "execution": {
     "iopub.execute_input": "2025-10-24T13:15:08.421807Z",
     "iopub.status.busy": "2025-10-24T13:15:08.421807Z",
     "iopub.status.idle": "2025-10-24T13:15:08.435807Z",
     "shell.execute_reply": "2025-10-24T13:15:08.435807Z"
    }
   },
   "outputs": [],
   "source": "sla = ds['sla'].isel(time=0)\nadt = ds['adt'].isel(time=0)\nugos = ds['ugos'].isel(time=0)\nvgos = ds['vgos'].isel(time=0)\nspeed = np.sqrt(ugos**2 + vgos**2)"
  },
  {
   "cell_type": "markdown",
   "metadata": {},
   "source": "## Global plot"
  },
  {
   "cell_type": "code",
   "execution_count": null,
   "metadata": {
    "execution": {
     "iopub.execute_input": "2025-10-24T13:15:08.437807Z",
     "iopub.status.busy": "2025-10-24T13:15:08.437807Z",
     "iopub.status.idle": "2025-10-24T13:15:08.707807Z",
     "shell.execute_reply": "2025-10-24T13:15:08.707807Z"
    }
   },
   "outputs": [],
   "source": ""
  },
  {
   "cell_type": "markdown",
   "metadata": {},
   "source": ""
  },
  {
   "cell_type": "code",
   "execution_count": null,
   "metadata": {
    "execution": {
     "iopub.execute_input": "2025-10-24T13:15:08.709808Z",
     "iopub.status.busy": "2025-10-24T13:15:08.709808Z",
     "iopub.status.idle": "2025-10-24T13:15:20.771301Z",
     "shell.execute_reply": "2025-10-24T13:15:20.771301Z"
    }
   },
   "outputs": [],
   "source": "fig = plt.figure(figsize=(20, 10))\nax = plt.subplot(1, 1, 1, projection=ccrs.Robinson())\n\nim = sla.plot(ax=ax, transform=ccrs.PlateCarree(), cmap='RdBu_r',\n              vmin=-0.4, vmax=0.4, add_colorbar=False)\n\nax.add_feature(cfeature.LAND, facecolor='lightgray')\nax.add_feature(cfeature.COASTLINE, linewidth=0.5)\n\ncbar = plt.colorbar(im, ax=ax, orientation='horizontal', pad=0.05, shrink=0.7)\ncbar.set_label('SLA (m)', fontsize=12)\n\nax.set_title('SWOT L4 - June 1, 2024', fontsize=14)\nplt.tight_layout()\nplt.savefig('swot_l4_global.png', dpi=150)\nplt.show()"
  },
  {
   "cell_type": "markdown",
   "metadata": {},
   "source": "## Multi-panel"
  },
  {
   "cell_type": "code",
   "execution_count": null,
   "metadata": {
    "execution": {
     "iopub.execute_input": "2025-10-24T13:15:20.776301Z",
     "iopub.status.busy": "2025-10-24T13:15:20.776301Z",
     "iopub.status.idle": "2025-10-24T13:16:01.423957Z",
     "shell.execute_reply": "2025-10-24T13:16:01.423957Z"
    }
   },
   "outputs": [],
   "source": "fig = plt.figure(figsize=(20, 14))\n\n# Global SLA\nax1 = plt.subplot(2, 3, 1, projection=ccrs.Robinson())\nsla.plot(ax=ax1, transform=ccrs.PlateCarree(), cmap='RdBu_r', \n         vmin=-0.4, vmax=0.4, add_colorbar=True, cbar_kwargs={'shrink': 0.7})\nax1.add_feature(cfeature.COASTLINE, linewidth=0.5)\nax1.set_title('SLA', fontsize=12)\n\n# Pacific\nax2 = plt.subplot(2, 3, 2, projection=ccrs.PlateCarree(central_longitude=180))\nsla.plot(ax=ax2, transform=ccrs.PlateCarree(), cmap='RdBu_r',\n         vmin=-0.4, vmax=0.4, add_colorbar=True, cbar_kwargs={'shrink': 0.7})\nax2.add_feature(cfeature.COASTLINE, linewidth=0.5)\nax2.set_extent([120, 240, -60, 60], crs=ccrs.PlateCarree())\nax2.set_title('Pacific', fontsize=12)\n\n# Atlantic\nax3 = plt.subplot(2, 3, 3, projection=ccrs.PlateCarree())\nsla.plot(ax=ax3, transform=ccrs.PlateCarree(), cmap='RdBu_r',\n         vmin=-0.4, vmax=0.4, add_colorbar=True, cbar_kwargs={'shrink': 0.7})\nax3.add_feature(cfeature.COASTLINE, linewidth=0.5)\nax3.set_extent([-80, 20, -60, 60], crs=ccrs.PlateCarree())\nax3.set_title('Atlantic', fontsize=12)\n\n# ADT\nax4 = plt.subplot(2, 3, 4, projection=ccrs.Robinson())\nadt.plot(ax=ax4, transform=ccrs.PlateCarree(), cmap='viridis',\n         add_colorbar=True, robust=True, cbar_kwargs={'shrink': 0.7})\nax4.add_feature(cfeature.COASTLINE, linewidth=0.5)\nax4.set_title('ADT', fontsize=12)\n\n# Current speed\nax5 = plt.subplot(2, 3, 5, projection=ccrs.Robinson())\nspeed.plot(ax=ax5, transform=ccrs.PlateCarree(), cmap='YlOrRd',\n          vmin=0, vmax=1.0, add_colorbar=True, cbar_kwargs={'shrink': 0.7})\nax5.add_feature(cfeature.COASTLINE, linewidth=0.5)\nax5.set_title('Current Speed', fontsize=12)\n\n# Histogram\nax6 = plt.subplot(2, 3, 6)\nsla_flat = sla.values.flatten()\nsla_flat = sla_flat[~np.isnan(sla_flat)]\nax6.hist(sla_flat, bins=100, color='steelblue', alpha=0.7)\nax6.set_xlabel('SLA (m)')\nax6.set_ylabel('Count')\nax6.set_title('Distribution', fontsize=12)\n\nplt.tight_layout()\nplt.savefig('swot_l4_multi.png', dpi=150)\nplt.show()"
  },
  {
   "cell_type": "markdown",
   "metadata": {},
   "source": "## Regional"
  },
  {
   "cell_type": "code",
   "execution_count": null,
   "metadata": {
    "execution": {
     "iopub.execute_input": "2025-10-24T13:16:01.425958Z",
     "iopub.status.busy": "2025-10-24T13:16:01.425958Z",
     "iopub.status.idle": "2025-10-24T13:16:32.942063Z",
     "shell.execute_reply": "2025-10-24T13:16:32.942063Z"
    }
   },
   "outputs": [],
   "source": "regions = [\n    {'name': 'NE Pacific', 'extent': [-180, -120, 40, 65]},\n    {'name': 'West Coast', 'extent': [-135, -115, 30, 50]},\n    {'name': 'Gulf of Mexico', 'extent': [-100, -80, 18, 32]},\n    {'name': 'Gulf Stream', 'extent': [-80, -60, 30, 45]}\n]\n\nfig, axes = plt.subplots(2, 2, figsize=(16, 12), \n                         subplot_kw={'projection': ccrs.PlateCarree()})\naxes = axes.flatten()\n\nfor ax, region in zip(axes, regions):\n    sla.plot(ax=ax, transform=ccrs.PlateCarree(), cmap='RdBu_r',\n             vmin=-0.4, vmax=0.4, add_colorbar=True,\n             cbar_kwargs={'shrink': 0.7, 'orientation': 'horizontal'})\n    \n    ax.add_feature(cfeature.LAND, facecolor='lightgray')\n    ax.add_feature(cfeature.COASTLINE, linewidth=0.5)\n    ax.set_extent(region['extent'], crs=ccrs.PlateCarree())\n    ax.set_title(region['name'], fontsize=12)\n\nplt.tight_layout()\nplt.savefig('swot_l4_regional.png', dpi=150)\nplt.show()"
  },
  {
   "cell_type": "markdown",
   "metadata": {},
   "source": "## Extract subset"
  },
  {
   "cell_type": "code",
   "execution_count": null,
   "metadata": {
    "execution": {
     "iopub.execute_input": "2025-10-24T13:16:32.944065Z",
     "iopub.status.busy": "2025-10-24T13:16:32.944065Z",
     "iopub.status.idle": "2025-10-24T13:16:33.069064Z",
     "shell.execute_reply": "2025-10-24T13:16:33.069064Z"
    }
   },
   "outputs": [],
   "source": "regional_ds = ds.sel(longitude=slice(-180, -120), latitude=slice(40, 65))\nregional_ds.to_netcdf('swot_l4_ne_pacific.nc')\nregional_ds['sla'].isel(time=0).shape"
  },
  {
   "cell_type": "code",
   "execution_count": null,
   "metadata": {
    "execution": {
     "iopub.execute_input": "2025-10-24T13:16:33.071064Z",
     "iopub.status.busy": "2025-10-24T13:16:33.071064Z",
     "iopub.status.idle": "2025-10-24T13:16:33.085064Z",
     "shell.execute_reply": "2025-10-24T13:16:33.085064Z"
    }
   },
   "outputs": [],
   "source": "ds.close()"
  },
  {
   "cell_type": "markdown",
   "metadata": {},
   "source": ""
  }
 ],
 "metadata": {
  "kernelspec": {
   "display_name": "Python 3",
   "language": "python",
   "name": "python3"
  },
  "language_info": {
   "codemirror_mode": {
    "name": "ipython",
    "version": 3
   },
   "file_extension": ".py",
   "mimetype": "text/x-python",
   "name": "python",
   "nbconvert_exporter": "python",
   "pygments_lexer": "ipython3",
   "version": "3.10.1"
  }
 },
 "nbformat": 4,
 "nbformat_minor": 4
}