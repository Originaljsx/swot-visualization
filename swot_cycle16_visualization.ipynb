{
 "cells": [
  {
   "cell_type": "code",
   "execution_count": null,
   "metadata": {},
   "outputs": [],
   "source": [
    "import numpy as np\n",
    "import xarray as xr\n",
    "import matplotlib.pyplot as plt\n",
    "import cartopy.crs as ccrs\n",
    "import cartopy.feature as cfeature\n",
    "from pathlib import Path\n",
    "from glob import glob\n",
    "import warnings\n",
    "warnings.filterwarnings('ignore')"
   ]
  },
  {
   "cell_type": "code",
   "execution_count": null,
   "metadata": {},
   "outputs": [],
   "source": [
    "data_dir = Path('swot_l3_cycle016')\n",
    "nc_files = sorted(glob(str(data_dir / '*.nc')))\n",
    "print(f\"Found {len(nc_files)} files\")"
   ]
  },
  {
   "cell_type": "code",
   "execution_count": null,
   "metadata": {},
   "outputs": [],
   "source": [
    "# Get date range from filenames\n",
    "first_file = Path(nc_files[0]).stem\n",
    "last_file = Path(nc_files[-1]).stem\n",
    "start_date = first_file.split('_')[6]\n",
    "end_date = last_file.split('_')[7]\n",
    "print(f\"Date range: {start_date} to {end_date}\")"
   ]
  },
  {
   "cell_type": "code",
   "execution_count": null,
   "metadata": {},
   "outputs": [],
   "source": [
    "# Check sample file for metadata\n",
    "sample_ds = xr.open_dataset(nc_files[0])\n",
    "print(f\"Swath dimensions: {sample_ds.dims['num_lines']} x {sample_ds.dims['num_pixels']}\")\n",
    "print(f\"Variables: {list(sample_ds.data_vars.keys())}\")\n",
    "sample_ds.close()"
   ]
  },
  {
   "cell_type": "code",
   "execution_count": null,
   "metadata": {},
   "outputs": [],
   "source": "fig = plt.figure(figsize=(20, 12), facecolor='white')\nax = fig.add_subplot(1, 1, 1, projection=ccrs.Robinson())\n\nprint(f\"Plotting {len(nc_files)} swaths...\")\n\ncmap = plt.cm.RdBu_r.copy()\ncmap.set_bad('white', alpha=0)\n\nfor i, nc_file in enumerate(nc_files):\n    if (i + 1) % 50 == 0:\n        print(f\"  {i + 1}/{len(nc_files)}\")\n    \n    try:\n        ds = xr.open_dataset(nc_file)\n        lons = ds['longitude'].values\n        lats = ds['latitude'].values\n        ssha = ds['ssha_filtered'].values\n        \n        ax.pcolormesh(lons, lats, ssha,\n                     transform=ccrs.PlateCarree(),\n                     cmap=cmap,\n                     vmin=-0.4, vmax=0.4,\n                     shading='auto',\n                     rasterized=True)\n        \n        ds.close()\n    except Exception as e:\n        continue\n\nax.set_facecolor('white')\nax.add_feature(cfeature.LAND, facecolor='#d9d9d9', edgecolor='none', zorder=10)\nax.add_feature(cfeature.COASTLINE, linewidth=0.3, edgecolor='#666666', zorder=11)\n\n# Title\ntitle_text = f\"SWOT L3 Complete High-Resolution Global Coverage\\n\"\ntitle_text += f\"Cycle 016 (May 29 - June 18, 2024) | All {len(nc_files)} Swaths\\n\"\ntitle_text += f\"Resolution: 2 km | Product: L3_LR_SSH_Basic v2.0.1\"\nax.set_title(title_text, fontsize=16, weight='bold', pad=20)\n\n# Colorbar\nsm = plt.cm.ScalarMappable(cmap=cmap, norm=plt.Normalize(vmin=-0.4, vmax=0.4))\ncbar = plt.colorbar(sm, ax=ax, orientation='horizontal', \n                    pad=0.05, shrink=0.7, aspect=30)\ncbar.set_label('Sea Surface Height Anomaly (m)', fontsize=14, weight='bold')\ncbar.ax.tick_params(labelsize=12)\n\n# Footer\nfooter_text = \"Data: AVISO/CNES SWOT L3 | Each swath: ~120 km width, 2 km resolution\"\nfig.text(0.5, 0.02, footer_text, ha='center', fontsize=10, style='italic', color='#666666')\n\nax.set_global()\nplt.tight_layout()\nplt.savefig('swot_cycle16_global_coverage.png', dpi=300, bbox_inches='tight', facecolor='white')\nplt.show()\n\nprint(f\"\\nVisualization complete!\")\nprint(f\"Saved to: swot_cycle16_global_coverage.png\")"
  }
 ],
 "metadata": {
  "kernelspec": {
   "display_name": "Python 3",
   "language": "python",
   "name": "python3"
  },
  "language_info": {
   "codemirror_mode": {
    "name": "ipython",
    "version": 3
   },
   "file_extension": ".py",
   "mimetype": "text/x-python",
   "name": "python",
   "nbconvert_exporter": "python",
   "pygments_lexer": "ipython3",
   "version": "3.9.0"
  }
 },
 "nbformat": 4,
 "nbformat_minor": 4
}